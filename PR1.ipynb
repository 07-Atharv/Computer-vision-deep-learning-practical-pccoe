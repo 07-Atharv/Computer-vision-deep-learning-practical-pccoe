{
 "cells": [
  {
   "cell_type": "code",
   "execution_count": 18,
   "id": "107714e0",
   "metadata": {},
   "outputs": [
    {
     "data": {
      "text/plain": [
       "-1"
      ]
     },
     "execution_count": 18,
     "metadata": {},
     "output_type": "execute_result"
    }
   ],
   "source": [
    "import cv2\n",
    "import numpy as np\n",
    "store = cv2.imread('C:/Users/ATHARV/Desktop/imgone.jpg')\n",
    "cv2.imshow('orignal',store)\n",
    "cv2.waitKey(0)"
   ]
  },
  {
   "cell_type": "code",
   "execution_count": 12,
   "id": "7d874409",
   "metadata": {},
   "outputs": [
    {
     "data": {
      "text/plain": [
       "-1"
      ]
     },
     "execution_count": 12,
     "metadata": {},
     "output_type": "execute_result"
    }
   ],
   "source": [
    "Gaussian = cv2.GaussianBlur(store,(7,7),0)\n",
    "cv2.imshow('Gaussian filter',Gaussian)\n",
    "cv2.waitKey(0)\n",
    "# dst = cv2.GaussianBlur(src, ksize, sigmaX[, dst[, sigmaY[, borderType=BORDER_DEFAULT]]] )"
   ]
  },
  {
   "cell_type": "code",
   "execution_count": 10,
   "id": "4cd292c3",
   "metadata": {},
   "outputs": [
    {
     "data": {
      "text/plain": [
       "-1"
      ]
     },
     "execution_count": 10,
     "metadata": {},
     "output_type": "execute_result"
    }
   ],
   "source": [
    "median = cv2.medianBlur(store,5)\n",
    "cv2.imshow('Median filter',median)\n",
    "cv2.waitKey(0)"
   ]
  },
  {
   "cell_type": "markdown",
   "id": "e8d16a30",
   "metadata": {},
   "source": [
    "########## sobel_f = cv2.Sobel(store,cv2.COLOR_BGR2GRAY,1,0,3)\n",
    "#64 bit floating point bit\n",
    "cv2.imshow('Sobel Filter',sobel_f)\n",
    "cv2.waitKey(0)\n",
    "########## Sobel(src_gray, grad_x, ddepth, 1, 0, ksize, scale, delta, BORDER_DEFAULT);"
   ]
  }
 ],
 "metadata": {
  "kernelspec": {
   "display_name": "Python 3 (ipykernel)",
   "language": "python",
   "name": "python3"
  },
  "language_info": {
   "codemirror_mode": {
    "name": "ipython",
    "version": 3
   },
   "file_extension": ".py",
   "mimetype": "text/x-python",
   "name": "python",
   "nbconvert_exporter": "python",
   "pygments_lexer": "ipython3",
   "version": "3.11.4"
  }
 },
 "nbformat": 4,
 "nbformat_minor": 5
}
